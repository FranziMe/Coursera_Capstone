{
 "cells": [
  {
   "cell_type": "markdown",
   "metadata": {},
   "source": [
    "This script reads in tables and writes out a file containing tables formated in Latex style for easy copy paste into Latex script"
   ]
  },
  {
   "cell_type": "code",
   "execution_count": 31,
   "metadata": {},
   "outputs": [],
   "source": [
    "# table with population\n",
    "# table with population and coordinates\n",
    "# table with venues\n",
    "# full input table for running the function"
   ]
  },
  {
   "cell_type": "code",
   "execution_count": 32,
   "metadata": {},
   "outputs": [],
   "source": [
    "import pandas as pd"
   ]
  },
  {
   "cell_type": "code",
   "execution_count": 33,
   "metadata": {},
   "outputs": [
    {
     "data": {
      "text/html": [
       "<div>\n",
       "<style scoped>\n",
       "    .dataframe tbody tr th:only-of-type {\n",
       "        vertical-align: middle;\n",
       "    }\n",
       "\n",
       "    .dataframe tbody tr th {\n",
       "        vertical-align: top;\n",
       "    }\n",
       "\n",
       "    .dataframe thead th {\n",
       "        text-align: right;\n",
       "    }\n",
       "</style>\n",
       "<table border=\"1\" class=\"dataframe\">\n",
       "  <thead>\n",
       "    <tr style=\"text-align: right;\">\n",
       "      <th></th>\n",
       "      <th>City</th>\n",
       "      <th>Population Size</th>\n",
       "      <th>Country</th>\n",
       "    </tr>\n",
       "  </thead>\n",
       "  <tbody>\n",
       "    <tr>\n",
       "      <th>0</th>\n",
       "      <td>Adrar</td>\n",
       "      <td>200834.0</td>\n",
       "      <td>Algeria</td>\n",
       "    </tr>\n",
       "    <tr>\n",
       "      <th>1</th>\n",
       "      <td>Ain Defla</td>\n",
       "      <td>450280.0</td>\n",
       "      <td>Algeria</td>\n",
       "    </tr>\n",
       "    <tr>\n",
       "      <th>2</th>\n",
       "      <td>Ain Temouchent</td>\n",
       "      <td>299341.0</td>\n",
       "      <td>Algeria</td>\n",
       "    </tr>\n",
       "    <tr>\n",
       "      <th>3</th>\n",
       "      <td>ALGIERS (EL DJAZAIR)</td>\n",
       "      <td>2712944.0</td>\n",
       "      <td>Algeria</td>\n",
       "    </tr>\n",
       "    <tr>\n",
       "      <th>4</th>\n",
       "      <td>Annaba</td>\n",
       "      <td>442230.0</td>\n",
       "      <td>Algeria</td>\n",
       "    </tr>\n",
       "  </tbody>\n",
       "</table>\n",
       "</div>"
      ],
      "text/plain": [
       "                   City  Population Size  Country\n",
       "0                 Adrar         200834.0  Algeria\n",
       "1             Ain Defla         450280.0  Algeria\n",
       "2        Ain Temouchent         299341.0  Algeria\n",
       "3  ALGIERS (EL DJAZAIR)        2712944.0  Algeria\n",
       "4                Annaba         442230.0  Algeria"
      ]
     },
     "execution_count": 33,
     "metadata": {},
     "output_type": "execute_result"
    }
   ],
   "source": [
    "pop_data = pd.read_excel('table08_clean.xlsx')\n",
    "pop_data.head()"
   ]
  },
  {
   "cell_type": "code",
   "execution_count": 34,
   "metadata": {},
   "outputs": [
    {
     "data": {
      "text/html": [
       "<div>\n",
       "<style scoped>\n",
       "    .dataframe tbody tr th:only-of-type {\n",
       "        vertical-align: middle;\n",
       "    }\n",
       "\n",
       "    .dataframe tbody tr th {\n",
       "        vertical-align: top;\n",
       "    }\n",
       "\n",
       "    .dataframe thead th {\n",
       "        text-align: right;\n",
       "    }\n",
       "</style>\n",
       "<table border=\"1\" class=\"dataframe\">\n",
       "  <thead>\n",
       "    <tr style=\"text-align: right;\">\n",
       "      <th></th>\n",
       "      <th>City</th>\n",
       "      <th>Population Size</th>\n",
       "      <th>Country</th>\n",
       "      <th>Latitude</th>\n",
       "      <th>Longitude</th>\n",
       "      <th>population_bin</th>\n",
       "    </tr>\n",
       "  </thead>\n",
       "  <tbody>\n",
       "    <tr>\n",
       "      <th>0</th>\n",
       "      <td>Adrar</td>\n",
       "      <td>200834.0</td>\n",
       "      <td>Algeria</td>\n",
       "      <td>27.945887</td>\n",
       "      <td>-0.199294</td>\n",
       "      <td>1</td>\n",
       "    </tr>\n",
       "    <tr>\n",
       "      <th>1</th>\n",
       "      <td>Ain Defla</td>\n",
       "      <td>450280.0</td>\n",
       "      <td>Algeria</td>\n",
       "      <td>36.158684</td>\n",
       "      <td>2.084282</td>\n",
       "      <td>1</td>\n",
       "    </tr>\n",
       "    <tr>\n",
       "      <th>2</th>\n",
       "      <td>Ain Temouchent</td>\n",
       "      <td>299341.0</td>\n",
       "      <td>Algeria</td>\n",
       "      <td>35.266657</td>\n",
       "      <td>-1.149928</td>\n",
       "      <td>1</td>\n",
       "    </tr>\n",
       "    <tr>\n",
       "      <th>3</th>\n",
       "      <td>ALGIERS (EL DJAZAIR)</td>\n",
       "      <td>2712944.0</td>\n",
       "      <td>Algeria</td>\n",
       "      <td>36.775361</td>\n",
       "      <td>3.060188</td>\n",
       "      <td>3</td>\n",
       "    </tr>\n",
       "    <tr>\n",
       "      <th>4</th>\n",
       "      <td>Annaba</td>\n",
       "      <td>442230.0</td>\n",
       "      <td>Algeria</td>\n",
       "      <td>36.898216</td>\n",
       "      <td>7.754927</td>\n",
       "      <td>1</td>\n",
       "    </tr>\n",
       "  </tbody>\n",
       "</table>\n",
       "</div>"
      ],
      "text/plain": [
       "                   City  Population Size  Country   Latitude  Longitude  \\\n",
       "0                 Adrar         200834.0  Algeria  27.945887  -0.199294   \n",
       "1             Ain Defla         450280.0  Algeria  36.158684   2.084282   \n",
       "2        Ain Temouchent         299341.0  Algeria  35.266657  -1.149928   \n",
       "3  ALGIERS (EL DJAZAIR)        2712944.0  Algeria  36.775361   3.060188   \n",
       "4                Annaba         442230.0  Algeria  36.898216   7.754927   \n",
       "\n",
       "   population_bin  \n",
       "0               1  \n",
       "1               1  \n",
       "2               1  \n",
       "3               3  \n",
       "4               1  "
      ]
     },
     "execution_count": 34,
     "metadata": {},
     "output_type": "execute_result"
    }
   ],
   "source": [
    "pop_coordinates = pd.read_excel('population_table.xlsx')\n",
    "pop_coordinates.drop(['Unnamed: 0'], axis = 1, inplace = True)\n",
    "pop_coordinates.head()"
   ]
  },
  {
   "cell_type": "code",
   "execution_count": null,
   "metadata": {},
   "outputs": [],
   "source": [
    "venues = pd.read_excel('city_venues.xlsx')\n",
    "venues.drop(['Unnamed: 0'], axis = 1, inplace = True)\n",
    "venues.head()"
   ]
  },
  {
   "cell_type": "code",
   "execution_count": null,
   "metadata": {},
   "outputs": [],
   "source": [
    "one_hot = pd.read_excel('population_venue_data.xlsx')\n",
    "one_hot.drop(['Unnamed: 0'], axis = 1, inplace = True)\n",
    "one_hot.head()\n",
    "one_hot.shape"
   ]
  },
  {
   "cell_type": "code",
   "execution_count": null,
   "metadata": {},
   "outputs": [],
   "source": [
    "one_hot.iloc[:,[0,1,2,3,4,5,6, 254 ,757]].head()"
   ]
  },
  {
   "cell_type": "code",
   "execution_count": null,
   "metadata": {},
   "outputs": [],
   "source": [
    "# write tables\n",
    "# column separater = &\n",
    "\n",
    "pop_data.to_csv('tables/pop_data.txt', sep = '&', index = False)\n",
    "pop_coordinates.to_csv('tables/pop_coordinates.txt', sep = '&', index = False)\n",
    "venues.to_csv('tables/venues.txt', sep = '&', index = False)\n",
    "one_hot.iloc[:,[0,1,2,3,4,5,6, 254 ,757]].to_csv('tables/one_hot.txt', sep = '&', index = False)\n"
   ]
  },
  {
   "cell_type": "code",
   "execution_count": null,
   "metadata": {},
   "outputs": [],
   "source": []
  },
  {
   "cell_type": "code",
   "execution_count": null,
   "metadata": {},
   "outputs": [],
   "source": []
  }
 ],
 "metadata": {
  "jupytext": {
   "cell_markers": "{{{,}}}",
   "text_representation": {
    "extension": ".py",
    "format_name": "light",
    "format_version": "1.5",
    "jupytext_version": "1.4.2"
   }
  },
  "kernelspec": {
   "display_name": "Python 3",
   "language": "python",
   "name": "python3"
  },
  "language_info": {
   "codemirror_mode": {
    "name": "ipython",
    "version": 3
   },
   "file_extension": ".py",
   "mimetype": "text/x-python",
   "name": "python",
   "nbconvert_exporter": "python",
   "pygments_lexer": "ipython3",
   "version": "3.7.6"
  }
 },
 "nbformat": 4,
 "nbformat_minor": 4
}
